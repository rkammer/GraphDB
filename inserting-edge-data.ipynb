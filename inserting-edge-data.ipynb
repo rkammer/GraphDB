{
    "metadata": {
        "kernelspec": {
            "name": "SQL",
            "display_name": "SQL",
            "language": "sql"
        },
        "language_info": {
            "name": "sql",
            "version": ""
        }
    },
    "nbformat_minor": 2,
    "nbformat": 4,
    "cells": [
        {
            "cell_type": "markdown",
            "source": [
                "# Graph Database Demo\r\n",
                ""
            ],
            "metadata": {
                "azdata_cell_guid": "8bc0c6b2-f162-4502-b8d9-91d4a61d65d0"
            }
        },
        {
            "cell_type": "markdown",
            "source": [
                "## Clear Edges"
            ],
            "metadata": {
                "azdata_cell_guid": "9ca64b8c-930f-43a6-b846-65eb08b7330c"
            }
        },
        {
            "cell_type": "code",
            "source": [
                "DELETE FROM GraphDB.Likes;\r\n",
                "DELETE FROM GraphDB.Attends;\r\n",
                "DELETE FROM GraphDB.LivesIn;\r\n",
                "DELETE FROM GraphDB.FriendsWith;\r\n",
                "DELETE FROM GraphDB.LocatedAt;\r\n",
                ""
            ],
            "metadata": {
                "azdata_cell_guid": "4933f018-4bcc-4707-97a9-73813b348932"
            },
            "outputs": [
                {
                    "output_type": "display_data",
                    "data": {
                        "text/html": "(3 rows affected)"
                    },
                    "metadata": {}
                },
                {
                    "output_type": "display_data",
                    "data": {
                        "text/html": "(3 rows affected)"
                    },
                    "metadata": {}
                },
                {
                    "output_type": "display_data",
                    "data": {
                        "text/html": "(5 rows affected)"
                    },
                    "metadata": {}
                },
                {
                    "output_type": "display_data",
                    "data": {
                        "text/html": "(6 rows affected)"
                    },
                    "metadata": {}
                },
                {
                    "output_type": "display_data",
                    "data": {
                        "text/html": "(4 rows affected)"
                    },
                    "metadata": {}
                },
                {
                    "output_type": "display_data",
                    "data": {
                        "text/html": "Total execution time: 00:00:00.023"
                    },
                    "metadata": {}
                }
            ],
            "execution_count": 22
        },
        {
            "cell_type": "markdown",
            "source": [
                "## Inserting Edge Data\r\n",
                "While inserting into an edge table, you need to provide the **$node_id** from **$from_id** and **$to_id** columns"
            ],
            "metadata": {
                "azdata_cell_guid": "9ed8c176-d10b-41b0-b164-1d4d3ec57290"
            }
        },
        {
            "cell_type": "code",
            "source": [
                "-- Olivia likes Yoga\r\n",
                "INSERT INTO [GraphDB].Likes\r\n",
                "($from_id, $to_id, Created)\r\n",
                "VALUES\r\n",
                "(\r\n",
                "    (SELECT $node_id FROM GraphDB.Person WHERE [Id] = 1),\r\n",
                "    (SELECT $node_id FROM GraphDB.Activity WHERE [Id] = 2),\r\n",
                "    GETDATE()\r\n",
                ")\r\n",
                "\r\n",
                "GO\r\n",
                "\r\n",
                "-- Olivia Attends City University\r\n",
                "INSERT INTO [GraphDB].Attends\r\n",
                "($from_id, $to_id, [Created])\r\n",
                "VALUES\r\n",
                "(\r\n",
                "    (SELECT $node_id FROM GraphDB.Person   WHERE [Id] = 1),\r\n",
                "    (SELECT $node_id FROM GraphDB.Location WHERE [Id] = 4),\r\n",
                "    GETDATE()\r\n",
                ")\r\n",
                "\r\n",
                "GO\r\n",
                "\r\n",
                "--  City University is located in Cactus City\r\n",
                "INSERT INTO [GraphDB].LocatedAt\r\n",
                "($from_id, $to_id, [Created])\r\n",
                "VALUES\r\n",
                "(    \r\n",
                "    (SELECT $node_id FROM GraphDB.Location WHERE [Id] = 4),\r\n",
                "    (SELECT $node_id FROM GraphDB.City     WHERE [Id] = 2),\r\n",
                "    GETDATE()\r\n",
                ")\r\n",
                "\r\n",
                "GO \r\n",
                "\r\n",
                "--  Brenton is livesIn Cactus City\r\n",
                "INSERT INTO [GraphDB].LivesIn\r\n",
                "($from_id, $to_id, [Created])\r\n",
                "VALUES\r\n",
                "(    \r\n",
                "    (SELECT $node_id FROM GraphDB.Person   WHERE [Id] = 2),\r\n",
                "    (SELECT $node_id FROM GraphDB.City     WHERE [Id] = 2),\r\n",
                "    GETDATE()\r\n",
                ")\r\n",
                "\r\n",
                "GO \r\n",
                "\r\n",
                "--  Jasmine likes reading\r\n",
                "INSERT INTO [GraphDB].Likes\r\n",
                "($from_id, $to_id, [Created])\r\n",
                "VALUES\r\n",
                "(    \r\n",
                "    (SELECT $node_id FROM GraphDB.Person   WHERE [Id] = 4),\r\n",
                "    (SELECT $node_id FROM GraphDB.Activity WHERE [Id] = 3),\r\n",
                "    GETDATE()\r\n",
                ")\r\n",
                "\r\n",
                "GO \r\n",
                "\r\n",
                "-- Olivia lives in Ocean Town\r\n",
                "INSERT INTO [GraphDB].LivesIn\r\n",
                "($from_id, $to_id, [Created])\r\n",
                "VALUES\r\n",
                "(    \r\n",
                "    (SELECT $node_id FROM GraphDB.Person   WHERE [Id] = 1),\r\n",
                "    (SELECT $node_id FROM GraphDB.City     WHERE [Id] = 1),\r\n",
                "    GETDATE()\r\n",
                ")\r\n",
                "\r\n",
                "GO\r\n",
                "\r\n",
                "-- Jasmin lives in Ocean Town\r\n",
                "INSERT INTO [GraphDB].LivesIn\r\n",
                "($from_id, $to_id, [Created])\r\n",
                "VALUES\r\n",
                "(    \r\n",
                "    (SELECT $node_id FROM GraphDB.Person   WHERE [Id] = 4),\r\n",
                "    (SELECT $node_id FROM GraphDB.City     WHERE [Id] = 1),\r\n",
                "    GETDATE()\r\n",
                ")\r\n",
                "\r\n",
                "GO\r\n",
                "\r\n",
                "-- Galen lives in Cactus City\r\n",
                "INSERT INTO [GraphDB].LivesIn\r\n",
                "($from_id, $to_id, [Created])\r\n",
                "VALUES\r\n",
                "(    \r\n",
                "    (SELECT $node_id FROM GraphDB.Person   WHERE [Id] = 3),\r\n",
                "    (SELECT $node_id FROM GraphDB.City     WHERE [Id] = 2),\r\n",
                "    GETDATE()\r\n",
                ")\r\n",
                "\r\n",
                "GO\r\n",
                "\r\n",
                "-- Sheri lives in Cactus City\r\n",
                "INSERT INTO [GraphDB].LivesIn\r\n",
                "($from_id, $to_id, [Created])\r\n",
                "VALUES\r\n",
                "(    \r\n",
                "    (SELECT $node_id FROM GraphDB.Person   WHERE [Id] = 5),\r\n",
                "    (SELECT $node_id FROM GraphDB.City     WHERE [Id] = 2),\r\n",
                "    GETDATE()\r\n",
                ")\r\n",
                "\r\n",
                "GO \r\n",
                "\r\n",
                "-- Olivia is friends with Jasmin\r\n",
                "INSERT INTO [GraphDB].FriendsWith\r\n",
                "($from_id, $to_id, [Created])\r\n",
                "VALUES\r\n",
                "(    \r\n",
                "    (SELECT $node_id FROM GraphDB.Person   WHERE [Id] = 1),\r\n",
                "    (SELECT $node_id FROM GraphDB.Person   WHERE [Id] = 4),\r\n",
                "    GETDATE()\r\n",
                ")\r\n",
                "\r\n",
                "\r\n",
                "GO\r\n",
                "\r\n",
                "-- Brenton is friends with  Galen\r\n",
                "INSERT INTO [GraphDB].FriendsWith\r\n",
                "($from_id, $to_id, [Created])\r\n",
                "VALUES\r\n",
                "(    \r\n",
                "    (SELECT $node_id FROM GraphDB.Person   WHERE [Id] = 2),\r\n",
                "    (SELECT $node_id FROM GraphDB.Person   WHERE [Id] = 3),\r\n",
                "    GETDATE()\r\n",
                ")\r\n",
                "\r\n",
                "GO\r\n",
                "\r\n",
                "-- Brenton is friends with Sheri\r\n",
                "INSERT INTO [GraphDB].FriendsWith\r\n",
                "($from_id, $to_id, [Created])\r\n",
                "VALUES\r\n",
                "(    \r\n",
                "    (SELECT $node_id FROM GraphDB.Person   WHERE [Id] = 2),\r\n",
                "    (SELECT $node_id FROM GraphDB.Person   WHERE [Id] = 5),\r\n",
                "    GETDATE()\r\n",
                ")\r\n",
                "\r\n",
                "GO\r\n",
                "\r\n",
                "-- Olivia is friends with Sheri\r\n",
                "INSERT INTO [GraphDB].FriendsWith\r\n",
                "($from_id, $to_id, [Created])\r\n",
                "VALUES\r\n",
                "(    \r\n",
                "    (SELECT $node_id FROM GraphDB.Person   WHERE [Id] = 1),\r\n",
                "    (SELECT $node_id FROM GraphDB.Person   WHERE [Id] = 5),\r\n",
                "    GETDATE()\r\n",
                ")\r\n",
                "\r\n",
                "GO\r\n",
                "\r\n",
                "-- Jasmin is friends with Galen\r\n",
                "INSERT INTO [GraphDB].FriendsWith\r\n",
                "($from_id, $to_id, [Created])\r\n",
                "VALUES\r\n",
                "(    \r\n",
                "    (SELECT $node_id FROM GraphDB.Person   WHERE [Id] = 4),\r\n",
                "    (SELECT $node_id FROM GraphDB.Person   WHERE [Id] = 3),\r\n",
                "    GETDATE()\r\n",
                ")\r\n",
                "\r\n",
                "GO\r\n",
                "\r\n",
                "-- Jasmin is friends with Sheri\r\n",
                "INSERT INTO [GraphDB].FriendsWith\r\n",
                "($from_id, $to_id, [Created])\r\n",
                "VALUES\r\n",
                "(    \r\n",
                "    (SELECT $node_id FROM GraphDB.Person   WHERE [Id] = 4),\r\n",
                "    (SELECT $node_id FROM GraphDB.Person   WHERE [Id] = 5),\r\n",
                "    GETDATE()\r\n",
                ")\r\n",
                "\r\n",
                "GO\r\n",
                "\r\n",
                "-- Sheri Likes to Hike\r\n",
                "INSERT INTO [GraphDB].Likes\r\n",
                "($from_id, $to_id, [Created])\r\n",
                "VALUES\r\n",
                "(\r\n",
                "    (SELECT $node_id FROM GraphDB.Person   WHERE [Id] = 5),\r\n",
                "    (SELECT $node_id FROM GraphDB.Activity WHERE [Id] = 1),\r\n",
                "    GETDATE()\r\n",
                ")\r\n",
                "\r\n",
                "GO\r\n",
                "\r\n",
                "-- Brenton does Jiu-Jitsu\r\n",
                "INSERT INTO [GraphDB].Attends\r\n",
                "($from_id, $to_id, [Created])\r\n",
                "VALUES\r\n",
                "(    \r\n",
                "    (SELECT $node_id FROM GraphDB.Person   WHERE [Id] = 2),\r\n",
                "    (SELECT $node_id FROM GraphDB.Activity WHERE [Id] = 4),\r\n",
                "    GETDATE()\r\n",
                ")\r\n",
                "\r\n",
                "GO\r\n",
                "\r\n",
                "-- Jamin does Yoga\r\n",
                "INSERT INTO [GraphDB].Attends\r\n",
                "($from_id, $to_id, [Created])\r\n",
                "VALUES\r\n",
                "(    \r\n",
                "    (SELECT $node_id FROM GraphDB.Person   WHERE [Id] = 4),\r\n",
                "    (SELECT $node_id FROM GraphDB.Activity WHERE [Id] = 2),\r\n",
                "    GETDATE()\r\n",
                ")\r\n",
                "\r\n",
                "GO\r\n",
                "\r\n",
                "\r\n",
                "-- Hiking at Red Rock Park\r\n",
                "INSERT INTO [GraphDB].LocatedAt\r\n",
                "($from_id, $to_id, [Created])\r\n",
                "VALUES\r\n",
                "(    \r\n",
                "    (SELECT $node_id FROM GraphDB.Activity WHERE [Id] = 1),\r\n",
                "    (SELECT $node_id FROM GraphDB.Location WHERE [Id] = 5),\r\n",
                "    GETDATE()\r\n",
                ")\r\n",
                "\r\n",
                "GO \r\n",
                "\r\n",
                "-- Hiking at Waterfall Trail\r\n",
                "INSERT INTO [GraphDB].LocatedAt\r\n",
                "($from_id, $to_id, [Created])\r\n",
                "VALUES\r\n",
                "(    \r\n",
                "    (SELECT $node_id FROM GraphDB.Activity WHERE [Id] = 1),\r\n",
                "    (SELECT $node_id FROM GraphDB.Location WHERE [Id] = 6),\r\n",
                "    GETDATE()\r\n",
                ")\r\n",
                "\r\n",
                "GO\r\n",
                "\r\n",
                "-- Yoga at Red Rock Park\r\n",
                "INSERT INTO [GraphDB].LocatedAt\r\n",
                "($from_id, $to_id, [Created])\r\n",
                "VALUES\r\n",
                "(    \r\n",
                "    (SELECT $node_id FROM GraphDB.Activity WHERE [Id] = 2),\r\n",
                "    (SELECT $node_id FROM GraphDB.Location WHERE [Id] = 5),\r\n",
                "    GETDATE()\r\n",
                ")\r\n",
                "\r\n",
                "GO\r\n",
                "\r\n",
                "-- Red Rock Pack is located in Cactus City\r\n",
                "INSERT INTO [GraphDB].LocatedAt\r\n",
                "($from_id, $to_id, [Created])\r\n",
                "VALUES\r\n",
                "(    \r\n",
                "    (SELECT $node_id FROM GraphDB.Location WHERE [Id] = 5),\r\n",
                "    (SELECT $node_id FROM GraphDB.City     WHERE [Id] = 2),\r\n",
                "    GETDATE()\r\n",
                ")\r\n",
                "\r\n",
                "GO\r\n",
                "\r\n",
                "-- Waterfall Trail is located in Ocean Town\r\n",
                "INSERT INTO [GraphDB].LocatedAt\r\n",
                "($from_id, $to_id, [Created])\r\n",
                "VALUES\r\n",
                "(    \r\n",
                "    (SELECT $node_id FROM GraphDB.Location WHERE [Id] = 6),\r\n",
                "    (SELECT $node_id FROM GraphDB.City     WHERE [Id] = 1),\r\n",
                "    GETDATE()\r\n",
                ")"
            ],
            "metadata": {
                "azdata_cell_guid": "4c288a8b-daf3-4c27-b36a-d697215e0267"
            },
            "outputs": [
                {
                    "output_type": "display_data",
                    "data": {
                        "text/html": "(1 row affected)"
                    },
                    "metadata": {}
                },
                {
                    "output_type": "display_data",
                    "data": {
                        "text/html": "(1 row affected)"
                    },
                    "metadata": {}
                },
                {
                    "output_type": "display_data",
                    "data": {
                        "text/html": "(1 row affected)"
                    },
                    "metadata": {}
                },
                {
                    "output_type": "display_data",
                    "data": {
                        "text/html": "(1 row affected)"
                    },
                    "metadata": {}
                },
                {
                    "output_type": "display_data",
                    "data": {
                        "text/html": "(1 row affected)"
                    },
                    "metadata": {}
                },
                {
                    "output_type": "display_data",
                    "data": {
                        "text/html": "(1 row affected)"
                    },
                    "metadata": {}
                },
                {
                    "output_type": "display_data",
                    "data": {
                        "text/html": "(1 row affected)"
                    },
                    "metadata": {}
                },
                {
                    "output_type": "display_data",
                    "data": {
                        "text/html": "(1 row affected)"
                    },
                    "metadata": {}
                },
                {
                    "output_type": "display_data",
                    "data": {
                        "text/html": "(1 row affected)"
                    },
                    "metadata": {}
                },
                {
                    "output_type": "display_data",
                    "data": {
                        "text/html": "(1 row affected)"
                    },
                    "metadata": {}
                },
                {
                    "output_type": "display_data",
                    "data": {
                        "text/html": "(1 row affected)"
                    },
                    "metadata": {}
                },
                {
                    "output_type": "display_data",
                    "data": {
                        "text/html": "(1 row affected)"
                    },
                    "metadata": {}
                },
                {
                    "output_type": "display_data",
                    "data": {
                        "text/html": "(1 row affected)"
                    },
                    "metadata": {}
                },
                {
                    "output_type": "display_data",
                    "data": {
                        "text/html": "(1 row affected)"
                    },
                    "metadata": {}
                },
                {
                    "output_type": "display_data",
                    "data": {
                        "text/html": "(1 row affected)"
                    },
                    "metadata": {}
                },
                {
                    "output_type": "display_data",
                    "data": {
                        "text/html": "(1 row affected)"
                    },
                    "metadata": {}
                },
                {
                    "output_type": "display_data",
                    "data": {
                        "text/html": "(1 row affected)"
                    },
                    "metadata": {}
                },
                {
                    "output_type": "display_data",
                    "data": {
                        "text/html": "(1 row affected)"
                    },
                    "metadata": {}
                },
                {
                    "output_type": "display_data",
                    "data": {
                        "text/html": "(1 row affected)"
                    },
                    "metadata": {}
                },
                {
                    "output_type": "display_data",
                    "data": {
                        "text/html": "(1 row affected)"
                    },
                    "metadata": {}
                },
                {
                    "output_type": "display_data",
                    "data": {
                        "text/html": "(1 row affected)"
                    },
                    "metadata": {}
                },
                {
                    "output_type": "display_data",
                    "data": {
                        "text/html": "(1 row affected)"
                    },
                    "metadata": {}
                },
                {
                    "output_type": "display_data",
                    "data": {
                        "text/html": "(1 row affected)"
                    },
                    "metadata": {}
                },
                {
                    "output_type": "display_data",
                    "data": {
                        "text/html": "Total execution time: 00:00:00.523"
                    },
                    "metadata": {}
                }
            ],
            "execution_count": 23
        }
    ]
}