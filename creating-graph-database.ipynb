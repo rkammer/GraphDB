{
    "metadata": {
        "kernelspec": {
            "name": "SQL",
            "display_name": "SQL",
            "language": "sql"
        },
        "language_info": {
            "name": "sql",
            "version": ""
        }
    },
    "nbformat_minor": 2,
    "nbformat": 4,
    "cells": [
        {
            "cell_type": "markdown",
            "source": [
                "# Graph Database Demo\r\n",
                "- Collection of *Node* and *Edge* Tables\r\n",
                "\r\n",
                "Documentation on SQL Graph is found [here](https://docs.microsoft.com/en-us/sql/relational-databases/graphs/sql-graph-overview?view=sql-server-ver15)"
            ],
            "metadata": {
                "azdata_cell_guid": "40099470-2647-4e6a-991b-166ecd7763e0"
            }
        },
        {
            "cell_type": "code",
            "source": [
                "CREATE SCHEMA [GraphDB];"
            ],
            "metadata": {
                "azdata_cell_guid": "678b0dc6-cecd-47e7-8afc-964ac60a23d6"
            },
            "outputs": [
                {
                    "output_type": "display_data",
                    "data": {
                        "text/html": "Commands completed successfully."
                    },
                    "metadata": {}
                },
                {
                    "output_type": "display_data",
                    "data": {
                        "text/html": "Total execution time: 00:00:00.064"
                    },
                    "metadata": {}
                }
            ],
            "execution_count": 1
        },
        {
            "cell_type": "markdown",
            "source": [
                "## Node Tables"
            ],
            "metadata": {
                "azdata_cell_guid": "c1b654c7-87af-44d3-a29f-861fcf68b074"
            }
        },
        {
            "cell_type": "code",
            "source": [
                "IF NOT EXISTS (\r\n",
                "    SELECT * \r\n",
                "      FROM sys.tables AS T\r\n",
                "      INNER JOIN sys.schemas AS S ON S.schema_id = T.schema_id\r\n",
                "      WHERE T.name = 'Person'\r\n",
                "        AND S.Name = 'GraphDB'\r\n",
                ") BEGIN\r\n",
                "    CREATE TABLE [GraphDB].Person\r\n",
                "    (\r\n",
                "        Id      INT         NOT NULL IDENTITY (1, 1),\r\n",
                "        Name    VARCHAR(50) NOT NULL,\r\n",
                "        Created DATETIME2   NOT NULL DEFAULT GETDATE()\r\n",
                "    ) AS NODE\r\n",
                "END\r\n",
                "\r\n",
                "GO\r\n",
                "\r\n",
                "IF NOT EXISTS (\r\n",
                "    SELECT * \r\n",
                "      FROM sys.tables AS T\r\n",
                "      INNER JOIN sys.schemas AS S ON S.schema_id = T.schema_id\r\n",
                "      WHERE T.name = 'Activity'\r\n",
                "        AND S.Name = 'GraphDB'\r\n",
                ") BEGIN\r\n",
                "    CREATE TABLE [GraphDB].Activity\r\n",
                "    (\r\n",
                "        Id      INT         NOT NULL IDENTITY (1, 1),\r\n",
                "        Name    VARCHAR(50) NOT NULL,\r\n",
                "        Created DATETIME2   NOT NULL DEFAULT GETDATE()\r\n",
                "    ) AS NODE\r\n",
                "END\r\n",
                "\r\n",
                "GO\r\n",
                "\r\n",
                "IF NOT EXISTS (\r\n",
                "    SELECT * \r\n",
                "      FROM sys.tables AS T\r\n",
                "      INNER JOIN sys.schemas AS S ON S.schema_id = T.schema_id\r\n",
                "      WHERE T.name = 'Location'\r\n",
                "        AND S.Name = 'GraphDB'\r\n",
                ") BEGIN\r\n",
                "    CREATE TABLE [GraphDB].Location\r\n",
                "    (\r\n",
                "        Id      INT          NOT NULL IDENTITY (1, 1),\r\n",
                "        Name    VARCHAR(50)  NOT NULL,\r\n",
                "        Address VARCHAR(100) NULL,\r\n",
                "        Created DATETIME2    NOT NULL DEFAULT GETDATE()\r\n",
                "    ) AS NODE \r\n",
                "END\r\n",
                "\r\n",
                "GO\r\n",
                "\r\n",
                "IF NOT EXISTS (\r\n",
                "    SELECT * \r\n",
                "      FROM sys.tables AS T\r\n",
                "      INNER JOIN sys.schemas AS S ON S.schema_id = T.schema_id\r\n",
                "      WHERE T.name = 'City'\r\n",
                "        AND S.Name = 'GraphDB'\r\n",
                ") BEGIN\r\n",
                "    CREATE TABLE [GraphDB].City\r\n",
                "    (\r\n",
                "        Id      INT          NOT NULL IDENTITY (1, 1),\r\n",
                "        Name    VARCHAR(50)  NOT NULL,\r\n",
                "        State   CHAR(2)      NOT NULL,\r\n",
                "        Created DATETIME2    NOT NULL DEFAULT GETDATE()\r\n",
                "    ) AS NODE \r\n",
                "END\r\n",
                "\r\n",
                "GO\r\n",
                ""
            ],
            "metadata": {
                "azdata_cell_guid": "fc6be37f-d6f0-4f4e-9083-8daa1d0d2b9b"
            },
            "outputs": [
                {
                    "output_type": "display_data",
                    "data": {
                        "text/html": "Commands completed successfully."
                    },
                    "metadata": {}
                },
                {
                    "output_type": "display_data",
                    "data": {
                        "text/html": "Commands completed successfully."
                    },
                    "metadata": {}
                },
                {
                    "output_type": "display_data",
                    "data": {
                        "text/html": "Commands completed successfully."
                    },
                    "metadata": {}
                },
                {
                    "output_type": "display_data",
                    "data": {
                        "text/html": "Commands completed successfully."
                    },
                    "metadata": {}
                },
                {
                    "output_type": "display_data",
                    "data": {
                        "text/html": "Total execution time: 00:00:00.111"
                    },
                    "metadata": {}
                }
            ],
            "execution_count": 8
        },
        {
            "cell_type": "markdown",
            "source": [
                "## Edge Tables\r\n",
                "Edge tables keep relationship between nodes"
            ],
            "metadata": {
                "azdata_cell_guid": "1db7479b-188b-4991-a517-b4a096cb033e"
            }
        },
        {
            "cell_type": "code",
            "source": [
                "IF NOT EXISTS (\r\n",
                "    SELECT * \r\n",
                "      FROM sys.tables AS T\r\n",
                "      INNER JOIN sys.schemas AS S ON S.schema_id = T.schema_id\r\n",
                "      WHERE T.name = 'Likes'\r\n",
                "        AND S.Name = 'GraphDB'\r\n",
                ") BEGIN\r\n",
                "    CREATE TABLE [GraphDB].Likes\r\n",
                "    (        \r\n",
                "        Created DATETIME2    NOT NULL DEFAULT GETDATE()\r\n",
                "    ) AS EDGE\r\n",
                "END\r\n",
                "\r\n",
                "GO\r\n",
                "\r\n",
                "IF NOT EXISTS (\r\n",
                "    SELECT * \r\n",
                "      FROM sys.tables AS T\r\n",
                "      INNER JOIN sys.schemas AS S ON S.schema_id = T.schema_id\r\n",
                "      WHERE T.name = 'Attends'\r\n",
                "        AND S.Name = 'GraphDB'\r\n",
                ") BEGIN\r\n",
                "    CREATE TABLE [GraphDB].Attends\r\n",
                "    (        \r\n",
                "        Created DATETIME2    NOT NULL DEFAULT GETDATE()\r\n",
                "    ) AS EDGE\r\n",
                "END\r\n",
                "\r\n",
                "GO\r\n",
                "\r\n",
                "IF NOT EXISTS (\r\n",
                "    SELECT * \r\n",
                "      FROM sys.tables AS T\r\n",
                "      INNER JOIN sys.schemas AS S ON S.schema_id = T.schema_id\r\n",
                "      WHERE T.name = 'LivesIn'\r\n",
                "        AND S.Name = 'GraphDB'\r\n",
                ") BEGIN\r\n",
                "    CREATE TABLE [GraphDB].LivesIn\r\n",
                "    (        \r\n",
                "        Created DATETIME2    NOT NULL DEFAULT GETDATE()\r\n",
                "    ) AS EDGE\r\n",
                "END\r\n",
                "\r\n",
                "GO\r\n",
                "\r\n",
                "IF NOT EXISTS (\r\n",
                "    SELECT * \r\n",
                "      FROM sys.tables AS T\r\n",
                "      INNER JOIN sys.schemas AS S ON S.schema_id = T.schema_id\r\n",
                "      WHERE T.name = 'FriendsWith'\r\n",
                "        AND S.Name = 'GraphDB'\r\n",
                ") BEGIN\r\n",
                "    CREATE TABLE [GraphDB].FriendsWith\r\n",
                "    (        \r\n",
                "        Created DATETIME2    NOT NULL DEFAULT GETDATE()\r\n",
                "    ) AS EDGE\r\n",
                "END\r\n",
                "\r\n",
                "GO \r\n",
                "\r\n",
                "IF NOT EXISTS (\r\n",
                "    SELECT * \r\n",
                "      FROM sys.tables AS T\r\n",
                "      INNER JOIN sys.schemas AS S ON S.schema_id = T.schema_id\r\n",
                "      WHERE T.name = 'LocatedAt'\r\n",
                "        AND S.Name = 'GraphDB'\r\n",
                ") BEGIN\r\n",
                "    CREATE TABLE [GraphDB].LocatedAt\r\n",
                "    (        \r\n",
                "        Created DATETIME2    NOT NULL DEFAULT GETDATE()\r\n",
                "    ) AS EDGE\r\n",
                "END\r\n",
                "\r\n",
                "GO"
            ],
            "metadata": {
                "azdata_cell_guid": "31d69421-01bb-42af-ae9c-ce707a76d0d1"
            },
            "outputs": [
                {
                    "output_type": "display_data",
                    "data": {
                        "text/html": "Commands completed successfully."
                    },
                    "metadata": {}
                },
                {
                    "output_type": "display_data",
                    "data": {
                        "text/html": "Commands completed successfully."
                    },
                    "metadata": {}
                },
                {
                    "output_type": "display_data",
                    "data": {
                        "text/html": "Commands completed successfully."
                    },
                    "metadata": {}
                },
                {
                    "output_type": "display_data",
                    "data": {
                        "text/html": "Commands completed successfully."
                    },
                    "metadata": {}
                },
                {
                    "output_type": "display_data",
                    "data": {
                        "text/html": "Commands completed successfully."
                    },
                    "metadata": {}
                },
                {
                    "output_type": "display_data",
                    "data": {
                        "text/html": "Total execution time: 00:00:00.178"
                    },
                    "metadata": {}
                }
            ],
            "execution_count": 9
        }
    ]
}