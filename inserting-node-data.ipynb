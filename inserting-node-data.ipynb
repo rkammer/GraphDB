{
    "metadata": {
        "kernelspec": {
            "name": "SQL",
            "display_name": "SQL",
            "language": "sql"
        },
        "language_info": {
            "name": "sql",
            "version": ""
        }
    },
    "nbformat_minor": 2,
    "nbformat": 4,
    "cells": [
        {
            "cell_type": "markdown",
            "source": [
                "# Graph Database Demo"
            ],
            "metadata": {
                "azdata_cell_guid": "fa3ad5a5-11b6-4b45-8b9e-b86c9b5fecf8"
            }
        },
        {
            "cell_type": "markdown",
            "source": [
                "## Insert People"
            ],
            "metadata": {
                "azdata_cell_guid": "3dfc9624-7219-4b93-ac75-cd23c7c2ddac"
            }
        },
        {
            "cell_type": "code",
            "source": [
                "INSERT INTO [GraphDB].Person\r\n",
                "(Name,  Created)\r\n",
                "VALUES\r\n",
                "('Olivia Hext',     GETDATE()),\r\n",
                "('Brenton Danell',  GETDATE()),\r\n",
                "('Galen Steele',    GETDATE()),\r\n",
                "('Jasmin Solomon',  GETDATE()),\r\n",
                "('Sheri Nixon',     GETDATE());"
            ],
            "metadata": {
                "azdata_cell_guid": "692c713f-2271-4d3a-8742-9ed20c91d34f"
            },
            "outputs": [
                {
                    "output_type": "display_data",
                    "data": {
                        "text/html": "(5 rows affected)"
                    },
                    "metadata": {}
                },
                {
                    "output_type": "display_data",
                    "data": {
                        "text/html": "Total execution time: 00:00:00.022"
                    },
                    "metadata": {}
                }
            ],
            "execution_count": 1
        },
        {
            "cell_type": "markdown",
            "source": [
                "## Insert Activities"
            ],
            "metadata": {
                "azdata_cell_guid": "76c02b6d-a8b6-4316-8333-d2697f71a774"
            }
        },
        {
            "cell_type": "code",
            "source": [
                "INSERT INTO [GraphDB].Activity\r\n",
                "(Name, Created)\r\n",
                "VALUES\r\n",
                "('Hike',      GETDATE()),\r\n",
                "('Yoga',      GETDATE()),\r\n",
                "('Read',      GETDATE()),\r\n",
                "('Jiu-jitsu', GETDATE()),\r\n",
                "('Coding',    GETDATE());"
            ],
            "metadata": {
                "azdata_cell_guid": "ca1897ce-3773-4e9e-b8f4-d2fc45154ce4"
            },
            "outputs": [
                {
                    "output_type": "display_data",
                    "data": {
                        "text/html": "(5 rows affected)"
                    },
                    "metadata": {}
                },
                {
                    "output_type": "display_data",
                    "data": {
                        "text/html": "Total execution time: 00:00:00.022"
                    },
                    "metadata": {}
                }
            ],
            "execution_count": 2
        },
        {
            "cell_type": "markdown",
            "source": [
                "## Insert Locations"
            ],
            "metadata": {
                "azdata_cell_guid": "7caa15c9-7960-46e5-8b44-8c94685a0e64"
            }
        },
        {
            "cell_type": "code",
            "source": [
                "INSERT INTO [GraphDB].[Location]\r\n",
                "(Name, Address, Created)\r\n",
                "VALUES\r\n",
                "('Sunshine Yoga',       '1111 Main St',              GETDATE()),\r\n",
                "('Public Library',      '300 Library Rd',            GETDATE()),\r\n",
                "('Star Fitness',        '123 Avocado Ave',           GETDATE()),\r\n",
                "('City University',     '1 Student Park',            GETDATE()),\r\n",
                "('Red Rock Park',       '',                          GETDATE()),\r\n",
                "('Waterfall Trail',     '',                          GETDATE()),\r\n",
                "('Hipster Coffee Shop', '12 Avenida del Presidente', GETDATE());\r\n",
                ""
            ],
            "metadata": {
                "azdata_cell_guid": "15e90277-9f07-4eef-b1ab-cacf578a4024"
            },
            "outputs": [
                {
                    "output_type": "display_data",
                    "data": {
                        "text/html": "(7 rows affected)"
                    },
                    "metadata": {}
                },
                {
                    "output_type": "display_data",
                    "data": {
                        "text/html": "Total execution time: 00:00:00.022"
                    },
                    "metadata": {}
                }
            ],
            "execution_count": 1
        },
        {
            "cell_type": "markdown",
            "source": [
                "## Insert Cities"
            ],
            "metadata": {
                "azdata_cell_guid": "927d131d-3e8a-4af4-bdc2-743cbbae0ae3"
            }
        },
        {
            "cell_type": "code",
            "source": [
                "INSERT INTO [GraphDB].[City]\r\n",
                "(Name, State, Created )\r\n",
                "VALUES\r\n",
                "('Ocean Town',  'CA', GETDATE()),\r\n",
                "('Cactus City', 'CA', GETDATE());"
            ],
            "metadata": {
                "azdata_cell_guid": "8c99d95f-bd22-48e3-ad61-5b75566f6c1d"
            },
            "outputs": [
                {
                    "output_type": "display_data",
                    "data": {
                        "text/html": "(2 rows affected)"
                    },
                    "metadata": {}
                },
                {
                    "output_type": "display_data",
                    "data": {
                        "text/html": "Total execution time: 00:00:00.023"
                    },
                    "metadata": {}
                }
            ],
            "execution_count": 3
        }
    ]
}