{
    "metadata": {
        "kernelspec": {
            "name": "SQL",
            "display_name": "SQL",
            "language": "sql"
        },
        "language_info": {
            "name": "sql",
            "version": ""
        }
    },
    "nbformat_minor": 2,
    "nbformat": 4,
    "cells": [
        {
            "cell_type": "markdown",
            "source": [
                "# Graph Database Demo"
            ],
            "metadata": {
                "azdata_cell_guid": "51901d32-be9b-4b99-a9d6-cf18be0adab4"
            }
        },
        {
            "cell_type": "markdown",
            "source": [
                "Who are Olivia's friends"
            ],
            "metadata": {
                "azdata_cell_guid": "0bb1405e-af28-41f2-9d0a-8da6c0b05c96"
            }
        },
        {
            "cell_type": "code",
            "source": [
                "SELECT P2.Name\r\n",
                "  FROM [GraphDB].Person      AS P1,\r\n",
                "       [GraphDB].Person      AS P2,\r\n",
                "       [GraphDB].FriendsWith AS F\r\n",
                " WHERE P1.Id = 1\r\n",
                "   AND MATCH(P1-(F)->P2)"
            ],
            "metadata": {
                "azdata_cell_guid": "1fe0ca78-4d63-4152-aa9e-32288f60daab"
            },
            "outputs": [
                {
                    "output_type": "display_data",
                    "data": {
                        "text/html": "(2 rows affected)"
                    },
                    "metadata": {}
                },
                {
                    "output_type": "display_data",
                    "data": {
                        "text/html": "Total execution time: 00:00:00.031"
                    },
                    "metadata": {}
                },
                {
                    "output_type": "execute_result",
                    "metadata": {},
                    "execution_count": 1,
                    "data": {
                        "application/vnd.dataresource+json": {
                            "schema": {
                                "fields": [
                                    {
                                        "name": "Name"
                                    }
                                ]
                            },
                            "data": [
                                {
                                    "0": "Jasmin Solomon"
                                },
                                {
                                    "0": "Sheri Nixon"
                                }
                            ]
                        },
                        "text/html": [
                            "<table>",
                            "<tr><th>Name</th></tr>",
                            "<tr><td>Jasmin Solomon</td></tr>",
                            "<tr><td>Sheri Nixon</td></tr>",
                            "</table>"
                        ]
                    }
                }
            ],
            "execution_count": 1
        },
        {
            "cell_type": "markdown",
            "source": [
                "Jasmin's Friends"
            ],
            "metadata": {
                "azdata_cell_guid": "f268202e-8c91-45b7-a534-c1197de69252"
            }
        },
        {
            "cell_type": "code",
            "source": [
                "SELECT P2.Id, P2.Name\r\n",
                "  FROM [GraphDB].Person      AS P1,\r\n",
                "       [GraphDB].Person      AS P2,\r\n",
                "       [GraphDB].FriendsWith AS F\r\n",
                " WHERE P1.Id = 4\r\n",
                "   AND MATCH(P1-(F)->P2)"
            ],
            "metadata": {
                "azdata_cell_guid": "29e674b0-af90-4de9-91cb-2868b0615b12"
            },
            "outputs": [
                {
                    "output_type": "display_data",
                    "data": {
                        "text/html": "(2 rows affected)"
                    },
                    "metadata": {}
                },
                {
                    "output_type": "display_data",
                    "data": {
                        "text/html": "Total execution time: 00:00:00.024"
                    },
                    "metadata": {}
                },
                {
                    "output_type": "execute_result",
                    "metadata": {},
                    "execution_count": 2,
                    "data": {
                        "application/vnd.dataresource+json": {
                            "schema": {
                                "fields": [
                                    {
                                        "name": "Id"
                                    },
                                    {
                                        "name": "Name"
                                    }
                                ]
                            },
                            "data": [
                                {
                                    "0": "3",
                                    "1": "Galen Steele"
                                },
                                {
                                    "0": "5",
                                    "1": "Sheri Nixon"
                                }
                            ]
                        },
                        "text/html": [
                            "<table>",
                            "<tr><th>Id</th><th>Name</th></tr>",
                            "<tr><td>3</td><td>Galen Steele</td></tr>",
                            "<tr><td>5</td><td>Sheri Nixon</td></tr>",
                            "</table>"
                        ]
                    }
                }
            ],
            "execution_count": 2
        },
        {
            "cell_type": "markdown",
            "source": [
                "Jasmin's Friends who like to hike"
            ],
            "metadata": {
                "azdata_cell_guid": "1e285cf3-1199-4996-a836-82fc71544e4c"
            }
        },
        {
            "cell_type": "code",
            "source": [
                "SELECT P2.Name\r\n",
                "  FROM [GraphDB].Person      AS P1,\r\n",
                "       [GraphDB].Person      AS P2,\r\n",
                "       [GraphDB].FriendsWith AS F,\r\n",
                "       [GraphDB].Likes       AS L,\r\n",
                "       [GraphDB].Activity    AS A\r\n",
                " WHERE P1.Id = 4\r\n",
                "   AND A.Id  = 1\r\n",
                "   AND MATCH(P1-(F)->P2-(L)->A)"
            ],
            "metadata": {
                "azdata_cell_guid": "7092d42f-0263-440f-99ee-1c3d2da14798"
            },
            "outputs": [
                {
                    "output_type": "display_data",
                    "data": {
                        "text/html": "(1 row affected)"
                    },
                    "metadata": {}
                },
                {
                    "output_type": "display_data",
                    "data": {
                        "text/html": "Total execution time: 00:00:00.030"
                    },
                    "metadata": {}
                },
                {
                    "output_type": "execute_result",
                    "metadata": {},
                    "execution_count": 3,
                    "data": {
                        "application/vnd.dataresource+json": {
                            "schema": {
                                "fields": [
                                    {
                                        "name": "Name"
                                    }
                                ]
                            },
                            "data": [
                                {
                                    "0": "Sheri Nixon"
                                }
                            ]
                        },
                        "text/html": [
                            "<table>",
                            "<tr><th>Name</th></tr>",
                            "<tr><td>Sheri Nixon</td></tr>",
                            "</table>"
                        ]
                    }
                }
            ],
            "execution_count": 3
        },
        {
            "cell_type": "markdown",
            "source": [
                "People who like Activities"
            ],
            "metadata": {
                "azdata_cell_guid": "04edddb9-3d6a-4c5e-846b-ff05d54da4cd"
            }
        },
        {
            "cell_type": "code",
            "source": [
                "SELECT P1.Name, A.Name\r\n",
                "  FROM [GraphDB].Person   AS P1,\r\n",
                "       [GraphDB].Likes    AS L,\r\n",
                "       [GraphDB].Activity AS A\r\n",
                " WHERE MATCH(P1-(L)->A)"
            ],
            "metadata": {
                "azdata_cell_guid": "10bddf35-ccc5-42e7-9a7f-899cd1d55766"
            },
            "outputs": [
                {
                    "output_type": "display_data",
                    "data": {
                        "text/html": "(3 rows affected)"
                    },
                    "metadata": {}
                },
                {
                    "output_type": "display_data",
                    "data": {
                        "text/html": "Total execution time: 00:00:00.031"
                    },
                    "metadata": {}
                },
                {
                    "output_type": "execute_result",
                    "metadata": {},
                    "execution_count": 4,
                    "data": {
                        "application/vnd.dataresource+json": {
                            "schema": {
                                "fields": [
                                    {
                                        "name": "Name"
                                    },
                                    {
                                        "name": "Name"
                                    }
                                ]
                            },
                            "data": [
                                {
                                    "0": "Olivia Hext",
                                    "1": "Yoga"
                                },
                                {
                                    "0": "Jasmin Solomon",
                                    "1": "Read"
                                },
                                {
                                    "0": "Sheri Nixon",
                                    "1": "Hike"
                                }
                            ]
                        },
                        "text/html": [
                            "<table>",
                            "<tr><th>Name</th><th>Name</th></tr>",
                            "<tr><td>Olivia Hext</td><td>Yoga</td></tr>",
                            "<tr><td>Jasmin Solomon</td><td>Read</td></tr>",
                            "<tr><td>Sheri Nixon</td><td>Hike</td></tr>",
                            "</table>"
                        ]
                    }
                }
            ],
            "execution_count": 4
        },
        {
            "cell_type": "markdown",
            "source": [
                "Activities Locations and Cities"
            ],
            "metadata": {
                "azdata_cell_guid": "f21ecc84-3004-4fdd-9bf0-f222f218ee26"
            }
        },
        {
            "cell_type": "code",
            "source": [
                "SELECT A.Name  AS Activity, \r\n",
                "       L2.Name AS Locations, \r\n",
                "       C.Name  AS City\r\n",
                "  FROM [GraphDB].LocatedAt AS L1,\r\n",
                "       [GraphDB].Location  AS L2,\r\n",
                "       [GraphDB].LocatedAt AS L3,\r\n",
                "       [GraphDB].Activity  AS A,\r\n",
                "       [GraphDB].City      AS C\r\n",
                " WHERE MATCH(A-(L1)->L2-(L3)->C)"
            ],
            "metadata": {
                "azdata_cell_guid": "005b0fa9-8f5d-46d0-90c6-c02e52782364"
            },
            "outputs": [
                {
                    "output_type": "display_data",
                    "data": {
                        "text/html": "(3 rows affected)"
                    },
                    "metadata": {}
                },
                {
                    "output_type": "display_data",
                    "data": {
                        "text/html": "Total execution time: 00:00:00.032"
                    },
                    "metadata": {}
                },
                {
                    "output_type": "execute_result",
                    "metadata": {},
                    "execution_count": 5,
                    "data": {
                        "application/vnd.dataresource+json": {
                            "schema": {
                                "fields": [
                                    {
                                        "name": "Activity"
                                    },
                                    {
                                        "name": "Locations"
                                    },
                                    {
                                        "name": "City"
                                    }
                                ]
                            },
                            "data": [
                                {
                                    "0": "Hike",
                                    "1": "Red Rock Park",
                                    "2": "Cactus City"
                                },
                                {
                                    "0": "Hike",
                                    "1": "Waterfall Trail",
                                    "2": "Ocean Town"
                                },
                                {
                                    "0": "Yoga",
                                    "1": "Red Rock Park",
                                    "2": "Cactus City"
                                }
                            ]
                        },
                        "text/html": [
                            "<table>",
                            "<tr><th>Activity</th><th>Locations</th><th>City</th></tr>",
                            "<tr><td>Hike</td><td>Red Rock Park</td><td>Cactus City</td></tr>",
                            "<tr><td>Hike</td><td>Waterfall Trail</td><td>Ocean Town</td></tr>",
                            "<tr><td>Yoga</td><td>Red Rock Park</td><td>Cactus City</td></tr>",
                            "</table>"
                        ]
                    }
                }
            ],
            "execution_count": 5
        }
    ]
}